{
 "cells": [
  {
   "cell_type": "markdown",
   "id": "8954c40f",
   "metadata": {},
   "source": [
    "# Tkinter y PyInstaller para archivos Python ejecutables\n",
    "*Tkinter* es una librería de *python* que nos permite crear interfaces gráficas para nuestros programas. *PyInstaller* es una librería que nos permite compilar código de python y sus dependencias en un solo archivo ejecutable. Combinadas ambas librerías son herramientas útiles que podrían servir en el ámbito laboral para compartir programas con otros equipos sin la necesidad de que estos tengan algún lenguaje de programación instalado. En esta notebook vamos a crea una interfaz gráfica simple para un programa que procese archivos de excel usando *Tkinter* y compilarla para crear un archivo ejecutable con *Pyinstaller*.\n",
    "\n",
    "En este caso vamos a usar el siguiente [dataset de Kaggle](https://www.kaggle.com/datasets/rohitsahoo/sales-forecasting?resource=download) que contiene información de ventas de un negocio durante 4 años. Vamos a realizar algunas tareas de procesamiento y luego exportar el output en una nueva tabla de excel a través de la interfaz gráfica creada con *Tkinter*.\n",
    "\n",
    "1. Vamos a escribir el código en **Jupyter Notebook** del procesamiento que queremos hacerle a nuestros datos.\n",
    "2. Vamos a reescribir el código para adaptarlo a **Tkinter** y crear una interfaz gráfica para el mismo.\n",
    "3. Vamos a compilar el código usando **PyInstaller** y crear un archivo ejecutable para poder acceder al programa sin necesidad de tener python instalado."
   ]
  },
  {
   "cell_type": "code",
   "execution_count": 90,
   "id": "fbf2e538",
   "metadata": {},
   "outputs": [],
   "source": [
    "# Importamos las librerías necesarias\n",
    "import tkinter as tk\n",
    "import pandas as pd\n",
    "import os\n",
    "from datetime import datetime\n",
    "import matplotlib.pyplot as plt\n",
    "import seaborn as sns"
   ]
  },
  {
   "cell_type": "markdown",
   "id": "6dccba46",
   "metadata": {},
   "source": [
    "## Código para Jupyter Notebook"
   ]
  },
  {
   "cell_type": "code",
   "execution_count": 44,
   "id": "20341d50",
   "metadata": {},
   "outputs": [],
   "source": [
    "# Cargamos la información\n",
    "files = [x for x in os.listdir() if x.endswith('.csv')]\n",
    "data = pd.read_csv(files[0])"
   ]
  },
  {
   "cell_type": "code",
   "execution_count": 47,
   "id": "5031aa83",
   "metadata": {},
   "outputs": [
    {
     "data": {
      "text/html": [
       "<div>\n",
       "<style scoped>\n",
       "    .dataframe tbody tr th:only-of-type {\n",
       "        vertical-align: middle;\n",
       "    }\n",
       "\n",
       "    .dataframe tbody tr th {\n",
       "        vertical-align: top;\n",
       "    }\n",
       "\n",
       "    .dataframe thead th {\n",
       "        text-align: right;\n",
       "    }\n",
       "</style>\n",
       "<table border=\"1\" class=\"dataframe\">\n",
       "  <thead>\n",
       "    <tr style=\"text-align: right;\">\n",
       "      <th></th>\n",
       "      <th>Row ID</th>\n",
       "      <th>Order ID</th>\n",
       "      <th>Order Date</th>\n",
       "      <th>Ship Date</th>\n",
       "      <th>Ship Mode</th>\n",
       "      <th>Customer ID</th>\n",
       "      <th>Customer Name</th>\n",
       "      <th>Segment</th>\n",
       "      <th>Country</th>\n",
       "      <th>City</th>\n",
       "      <th>State</th>\n",
       "      <th>Postal Code</th>\n",
       "      <th>Region</th>\n",
       "      <th>Product ID</th>\n",
       "      <th>Category</th>\n",
       "      <th>Sub-Category</th>\n",
       "      <th>Product Name</th>\n",
       "      <th>Sales</th>\n",
       "    </tr>\n",
       "  </thead>\n",
       "  <tbody>\n",
       "    <tr>\n",
       "      <th>0</th>\n",
       "      <td>1</td>\n",
       "      <td>CA-2017-152156</td>\n",
       "      <td>08/11/2017</td>\n",
       "      <td>11/11/2017</td>\n",
       "      <td>Second Class</td>\n",
       "      <td>CG-12520</td>\n",
       "      <td>Claire Gute</td>\n",
       "      <td>Consumer</td>\n",
       "      <td>United States</td>\n",
       "      <td>Henderson</td>\n",
       "      <td>Kentucky</td>\n",
       "      <td>42420.0</td>\n",
       "      <td>South</td>\n",
       "      <td>FUR-BO-10001798</td>\n",
       "      <td>Furniture</td>\n",
       "      <td>Bookcases</td>\n",
       "      <td>Bush Somerset Collection Bookcase</td>\n",
       "      <td>261.9600</td>\n",
       "    </tr>\n",
       "    <tr>\n",
       "      <th>1</th>\n",
       "      <td>2</td>\n",
       "      <td>CA-2017-152156</td>\n",
       "      <td>08/11/2017</td>\n",
       "      <td>11/11/2017</td>\n",
       "      <td>Second Class</td>\n",
       "      <td>CG-12520</td>\n",
       "      <td>Claire Gute</td>\n",
       "      <td>Consumer</td>\n",
       "      <td>United States</td>\n",
       "      <td>Henderson</td>\n",
       "      <td>Kentucky</td>\n",
       "      <td>42420.0</td>\n",
       "      <td>South</td>\n",
       "      <td>FUR-CH-10000454</td>\n",
       "      <td>Furniture</td>\n",
       "      <td>Chairs</td>\n",
       "      <td>Hon Deluxe Fabric Upholstered Stacking Chairs,...</td>\n",
       "      <td>731.9400</td>\n",
       "    </tr>\n",
       "    <tr>\n",
       "      <th>2</th>\n",
       "      <td>3</td>\n",
       "      <td>CA-2017-138688</td>\n",
       "      <td>12/06/2017</td>\n",
       "      <td>16/06/2017</td>\n",
       "      <td>Second Class</td>\n",
       "      <td>DV-13045</td>\n",
       "      <td>Darrin Van Huff</td>\n",
       "      <td>Corporate</td>\n",
       "      <td>United States</td>\n",
       "      <td>Los Angeles</td>\n",
       "      <td>California</td>\n",
       "      <td>90036.0</td>\n",
       "      <td>West</td>\n",
       "      <td>OFF-LA-10000240</td>\n",
       "      <td>Office Supplies</td>\n",
       "      <td>Labels</td>\n",
       "      <td>Self-Adhesive Address Labels for Typewriters b...</td>\n",
       "      <td>14.6200</td>\n",
       "    </tr>\n",
       "    <tr>\n",
       "      <th>3</th>\n",
       "      <td>4</td>\n",
       "      <td>US-2016-108966</td>\n",
       "      <td>11/10/2016</td>\n",
       "      <td>18/10/2016</td>\n",
       "      <td>Standard Class</td>\n",
       "      <td>SO-20335</td>\n",
       "      <td>Sean O'Donnell</td>\n",
       "      <td>Consumer</td>\n",
       "      <td>United States</td>\n",
       "      <td>Fort Lauderdale</td>\n",
       "      <td>Florida</td>\n",
       "      <td>33311.0</td>\n",
       "      <td>South</td>\n",
       "      <td>FUR-TA-10000577</td>\n",
       "      <td>Furniture</td>\n",
       "      <td>Tables</td>\n",
       "      <td>Bretford CR4500 Series Slim Rectangular Table</td>\n",
       "      <td>957.5775</td>\n",
       "    </tr>\n",
       "    <tr>\n",
       "      <th>4</th>\n",
       "      <td>5</td>\n",
       "      <td>US-2016-108966</td>\n",
       "      <td>11/10/2016</td>\n",
       "      <td>18/10/2016</td>\n",
       "      <td>Standard Class</td>\n",
       "      <td>SO-20335</td>\n",
       "      <td>Sean O'Donnell</td>\n",
       "      <td>Consumer</td>\n",
       "      <td>United States</td>\n",
       "      <td>Fort Lauderdale</td>\n",
       "      <td>Florida</td>\n",
       "      <td>33311.0</td>\n",
       "      <td>South</td>\n",
       "      <td>OFF-ST-10000760</td>\n",
       "      <td>Office Supplies</td>\n",
       "      <td>Storage</td>\n",
       "      <td>Eldon Fold 'N Roll Cart System</td>\n",
       "      <td>22.3680</td>\n",
       "    </tr>\n",
       "  </tbody>\n",
       "</table>\n",
       "</div>"
      ],
      "text/plain": [
       "   Row ID        Order ID  Order Date   Ship Date       Ship Mode Customer ID  \\\n",
       "0       1  CA-2017-152156  08/11/2017  11/11/2017    Second Class    CG-12520   \n",
       "1       2  CA-2017-152156  08/11/2017  11/11/2017    Second Class    CG-12520   \n",
       "2       3  CA-2017-138688  12/06/2017  16/06/2017    Second Class    DV-13045   \n",
       "3       4  US-2016-108966  11/10/2016  18/10/2016  Standard Class    SO-20335   \n",
       "4       5  US-2016-108966  11/10/2016  18/10/2016  Standard Class    SO-20335   \n",
       "\n",
       "     Customer Name    Segment        Country             City       State  \\\n",
       "0      Claire Gute   Consumer  United States        Henderson    Kentucky   \n",
       "1      Claire Gute   Consumer  United States        Henderson    Kentucky   \n",
       "2  Darrin Van Huff  Corporate  United States      Los Angeles  California   \n",
       "3   Sean O'Donnell   Consumer  United States  Fort Lauderdale     Florida   \n",
       "4   Sean O'Donnell   Consumer  United States  Fort Lauderdale     Florida   \n",
       "\n",
       "   Postal Code Region       Product ID         Category Sub-Category  \\\n",
       "0      42420.0  South  FUR-BO-10001798        Furniture    Bookcases   \n",
       "1      42420.0  South  FUR-CH-10000454        Furniture       Chairs   \n",
       "2      90036.0   West  OFF-LA-10000240  Office Supplies       Labels   \n",
       "3      33311.0  South  FUR-TA-10000577        Furniture       Tables   \n",
       "4      33311.0  South  OFF-ST-10000760  Office Supplies      Storage   \n",
       "\n",
       "                                        Product Name     Sales  \n",
       "0                  Bush Somerset Collection Bookcase  261.9600  \n",
       "1  Hon Deluxe Fabric Upholstered Stacking Chairs,...  731.9400  \n",
       "2  Self-Adhesive Address Labels for Typewriters b...   14.6200  \n",
       "3      Bretford CR4500 Series Slim Rectangular Table  957.5775  \n",
       "4                     Eldon Fold 'N Roll Cart System   22.3680  "
      ]
     },
     "execution_count": 47,
     "metadata": {},
     "output_type": "execute_result"
    }
   ],
   "source": [
    "data.head()"
   ]
  },
  {
   "cell_type": "markdown",
   "id": "293d8070",
   "metadata": {},
   "source": [
    "El dataset tiene mucha información y podríamos realizar muchos análisis distintos, pero en este caso nos vamos a concentrar en obtener la evolución de las ventas semanales para el último año y un gráfico para la distribución de ventas por categoría para el último mes. Vamos a quedarnos entonces con la información de fecha, ventas y categoría."
   ]
  },
  {
   "cell_type": "code",
   "execution_count": 48,
   "id": "e188cc50",
   "metadata": {},
   "outputs": [],
   "source": [
    "data = data[['Order ID','Order Date','Category','Sales']]\n",
    "data.columns = ['_'.join(x.split()).lower() for x in data.columns]\n",
    "data.order_date = pd.to_datetime(data.order_date, format = '%d/%m/%Y')\n",
    "data.category = data.category.astype('category')"
   ]
  },
  {
   "cell_type": "code",
   "execution_count": 118,
   "id": "1eb6765b",
   "metadata": {},
   "outputs": [
    {
     "name": "stderr",
     "output_type": "stream",
     "text": [
      "<ipython-input-118-974f02c626f0>:2: SettingWithCopyWarning: \n",
      "A value is trying to be set on a copy of a slice from a DataFrame.\n",
      "Try using .loc[row_indexer,col_indexer] = value instead\n",
      "\n",
      "See the caveats in the documentation: https://pandas.pydata.org/pandas-docs/stable/user_guide/indexing.html#returning-a-view-versus-a-copy\n",
      "  weekly_data['year'] = pd.DatetimeIndex(weekly_data['order_date']).year\n"
     ]
    },
    {
     "data": {
      "text/html": [
       "<div>\n",
       "<style scoped>\n",
       "    .dataframe tbody tr th:only-of-type {\n",
       "        vertical-align: middle;\n",
       "    }\n",
       "\n",
       "    .dataframe tbody tr th {\n",
       "        vertical-align: top;\n",
       "    }\n",
       "\n",
       "    .dataframe thead th {\n",
       "        text-align: right;\n",
       "    }\n",
       "</style>\n",
       "<table border=\"1\" class=\"dataframe\">\n",
       "  <thead>\n",
       "    <tr style=\"text-align: right;\">\n",
       "      <th></th>\n",
       "      <th>week</th>\n",
       "      <th>sales</th>\n",
       "    </tr>\n",
       "  </thead>\n",
       "  <tbody>\n",
       "    <tr>\n",
       "      <th>0</th>\n",
       "      <td>2018-01-07</td>\n",
       "      <td>9060.984</td>\n",
       "    </tr>\n",
       "    <tr>\n",
       "      <th>1</th>\n",
       "      <td>2018-01-14</td>\n",
       "      <td>7332.659</td>\n",
       "    </tr>\n",
       "    <tr>\n",
       "      <th>2</th>\n",
       "      <td>2018-01-21</td>\n",
       "      <td>13698.768</td>\n",
       "    </tr>\n",
       "    <tr>\n",
       "      <th>3</th>\n",
       "      <td>2018-01-28</td>\n",
       "      <td>9476.086</td>\n",
       "    </tr>\n",
       "    <tr>\n",
       "      <th>4</th>\n",
       "      <td>2018-02-04</td>\n",
       "      <td>5776.328</td>\n",
       "    </tr>\n",
       "  </tbody>\n",
       "</table>\n",
       "</div>"
      ],
      "text/plain": [
       "        week      sales\n",
       "0 2018-01-07   9060.984\n",
       "1 2018-01-14   7332.659\n",
       "2 2018-01-21  13698.768\n",
       "3 2018-01-28   9476.086\n",
       "4 2018-02-04   5776.328"
      ]
     },
     "execution_count": 118,
     "metadata": {},
     "output_type": "execute_result"
    }
   ],
   "source": [
    "weekly_data = data[['order_date','sales']]\n",
    "weekly_data['year'] = pd.DatetimeIndex(weekly_data['order_date']).year\n",
    "years = list(weekly_data.year.unique())\n",
    "weekly_data = weekly_data.loc[weekly_data.year == max(years),:]\n",
    "weekly_data.set_index('order_date',inplace = True)\n",
    "del weekly_data['year']\n",
    "weekly_data.sort_index(inplace=True)\n",
    "weekly_data = weekly_data.resample('W').sum()\n",
    "weekly_data.reset_index(inplace = True)\n",
    "weekly_data.columns = ['week','sales']\n",
    "weekly_data.head()"
   ]
  },
  {
   "cell_type": "code",
   "execution_count": 119,
   "id": "5d608682",
   "metadata": {},
   "outputs": [],
   "source": [
    "chart_data = data[['order_date','sales','category']]\n",
    "chart_data['year'] = pd.DatetimeIndex(chart_data['order_date']).year\n",
    "chart_data['month'] = pd.DatetimeIndex(chart_data['order_date']).month\n",
    "chart_data = chart_data.loc[(chart_data.year == max(chart_data.year)) & (chart_data.month == max(chart_data.month))]"
   ]
  },
  {
   "cell_type": "code",
   "execution_count": 116,
   "id": "69d42dba",
   "metadata": {},
   "outputs": [
    {
     "data": {
      "image/png": "[encoded data removed]",
      "text/plain": [
       "<Figure size 432x288 with 1 Axes>"
      ]
     },
     "metadata": {
      "needs_background": "light"
     },
     "output_type": "display_data"
    }
   ],
   "source": [
    "ax = sns.barplot(x=\"category\", y=\"sales\", data=chart_data, ci = 0)\n",
    "ax.bar_label(ax.containers[0],padding = 1)\n",
    "plt.show()"
   ]
  },
  {
   "cell_type": "markdown",
   "id": "b664fd62",
   "metadata": {},
   "source": [
    "Ya tenemos el output que queríamos, lo que vamos a hacer ahora es reescribir el código para adaptarlo a *Tkinter* y luego compilarlo con *Pyinstaller*."
   ]
  },
  {
   "cell_type": "markdown",
   "id": "69ab230d",
   "metadata": {},
   "source": [
    "## Código para Tkinter"
   ]
  },
  {
   "cell_type": "code",
   "execution_count": 114,
   "id": "7263aeb2",
   "metadata": {},
   "outputs": [],
   "source": [
    "# Definimos una función que contenga el procesamiento que hicimos en el paso anterior\n",
    "def process_info(file, path, path_export):\n",
    "\n",
    "    # Importamos la información\n",
    "    data = pd.read_csv(path + file)\n",
    "    \n",
    "    data = data[['Order ID','Order Date','Category','Sales']]\n",
    "    data.columns = ['_'.join(x.split()).lower() for x in data.columns]\n",
    "    data.order_date = pd.to_datetime(data.order_date, format = '%d/%m/%Y')\n",
    "    data.category = data.category.astype('category')\n",
    "    data['year'] = pd.DatetimeIndex(data['order_date']).year\n",
    "    data['month'] = pd.DatetimeIndex(data['order_date']).month\n",
    "    \n",
    "    # Información para el csv con las ventas semanales del último año\n",
    "    weekly_data = data[['order_date','sales','year']]\n",
    "    weekly_data = weekly_data.loc[weekly_data.year == max(weekly_data.year)]\n",
    "    weekly_data.set_index('order_date',inplace = True)\n",
    "    weekly_data.sort_index(inplace=True)\n",
    "    weekly_data = weekly_data.resample('W').sum()\n",
    "    weekly_data.reset_index(inplace = True)\n",
    "    weekly_data.columns = ['week','sales']\n",
    "    weekly_data.to_csv(path_export + 'weekly_sales.csv',index = False)\n",
    "    \n",
    "    # Información para exportar imagen con ventas por categoría último mes\n",
    "    chart_data = data[['order_date','sales','category','year','month']]\n",
    "    chart_data = chart_data.loc[(chart_data.year == max(chart_data.year)) & (chart_data.month == max(chart_data.month))]\n",
    "    ax = sns.barplot(x=\"category\", y=\"sales\", data=chart_data, ci = 0)\n",
    "    ax.bar_label(ax.containers[0],padding = 1)\n",
    "    plt.savefig(path_export + 'sales_per_category_last_week.png')"
   ]
  },
  {
   "cell_type": "markdown",
   "id": "0674f9ea",
   "metadata": {},
   "source": [
    "En la siguiente celda construimos la interfaz gráfica con Tkinter, y al ejecutarla se abrirá una ventana en la que completamos path y path de exportación, con un botón que da inicio al procesamiento y la exportación de los resultados.\n",
    "El path debe estar escrito en el siguiente formato: **/path/hacia/la/carpeta/de/ubicación/de/los/archivos/**"
   ]
  },
  {
   "cell_type": "code",
   "execution_count": 120,
   "id": "38305d7d",
   "metadata": {},
   "outputs": [],
   "source": [
    "root=tk.Tk()\n",
    "root.title(\"Sales Data\")\n",
    "root.geometry(\"250x100\")\n",
    "\n",
    "path_var = tk.StringVar() ## path hacia el archivo de datos\n",
    "pathe_var = tk.StringVar()## path para la exportación de los resultados\n",
    "  \n",
    "# Declaramos la función que toma como inputs el path donde están los files y el path en el cual queremos\n",
    "# exportar el resultado\n",
    "def submit(): \n",
    "    ## tomamos el path escrito arriba\n",
    "    path = path_var.get() \n",
    "    path_export = pathe_var.get()\n",
    "    ## obtenemos los archivos .csv del path declarado\n",
    "    files = [x for x in os.listdir(path) if x.endswith('.csv')]\n",
    "    process_info(files[0], path, path_export)\n",
    "    \n",
    "# Diseñamos el aspecto de la interfaz gráfica\n",
    "path_label = tk.Label(root, text = 'Path', font = ('calibre',10,'bold'))\n",
    "# Este será el espacio para escribir el path en la interfaz gráfica\n",
    "path_entry=tk.Entry(root, textvariable = path_var, font = ('calibre',10,'normal')) \n",
    "\n",
    "pathe_label = tk.Label(root, text = 'Export', font = ('calibre',10,'bold'))\n",
    "# Este será el espacio para escribir el path de exportación en la interfaz gráfica\n",
    "pathe_entry=tk.Entry(root, textvariable = pathe_var, font = ('calibre',10,'normal'))\n",
    "\n",
    "sub_btn=tk.Button(root,text = 'Submit', command = submit) # Declaramos el botón que de inicio al procesamiento\n",
    "  \n",
    "path_label.grid(row=1,column=0)\n",
    "path_entry.grid(row=1,column=1)\n",
    "pathe_label.grid(row=2,column=0)\n",
    "pathe_entry.grid(row=2,column=1)\n",
    "sub_btn.grid(row=3,column=1)\n",
    "\n",
    "root.mainloop()"
   ]
  },
  {
   "cell_type": "markdown",
   "id": "c9ab8dae",
   "metadata": {},
   "source": [
    "## Código para Pyinstaller"
   ]
  },
  {
   "cell_type": "markdown",
   "id": "2d6ac3e6",
   "metadata": {},
   "source": [
    "Para continuar vamos a crear un archivo python que contenga el mismo código que el que escribimos en la sección \"Código para Tkinter\" (**además de las líneas para importar las librerías necesarias**) . Una vez creado el archivo abrimos la consola de comandos, navegamos hacia la dirección del arhivo .py creado y ejecutamos la siguiente línea:\n",
    "```python\n",
    "pyinstaller nombre_del_archivo.py --onefile --windowed\n",
    "```\n",
    "El resultado es el siguiente:\n",
    "- Un archivo nombrearchivo.spec en la carpeta del archivo.\n",
    "- Una carpeta build en la misma carpeta del archivo.\n",
    "- Algunos log files en la carpeta build.\n",
    "- **Una carpeta dist que contiene al archivo ejecutable con el programa con la interfaz gráfica de Tkinter en su interior que permite ejecutar el procesamiento de los datos.**\n",
    "\n",
    "Estos archivos generados pueden compartirse con personas que no tengan python instalado e igual podrán ejecutar el programa."
   ]
  },
  {
   "cell_type": "code",
   "execution_count": null,
   "id": "8e560531",
   "metadata": {},
   "outputs": [],
   "source": []
  }
 ],
 "metadata": {
  "kernelspec": {
   "display_name": "Python 3",
   "language": "python",
   "name": "python3"
  },
  "language_info": {
   "codemirror_mode": {
    "name": "ipython",
    "version": 3
   },
   "file_extension": ".py",
   "mimetype": "text/x-python",
   "name": "python",
   "nbconvert_exporter": "python",
   "pygments_lexer": "ipython3",
   "version": "3.9.6"
  }
 },
 "nbformat": 4,
 "nbformat_minor": 5
}
